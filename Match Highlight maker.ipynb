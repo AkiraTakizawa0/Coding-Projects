{
 "cells": [
  {
   "cell_type": "code",
   "execution_count": 156,
   "id": "57a8fece",
   "metadata": {},
   "outputs": [
    {
     "name": "stdout",
     "output_type": "stream",
     "text": [
      "Collecting ffmpeg\n",
      "  Downloading ffmpeg-1.4.tar.gz (5.1 kB)\n",
      "Building wheels for collected packages: ffmpeg\n",
      "  Building wheel for ffmpeg (setup.py): started\n",
      "  Building wheel for ffmpeg (setup.py): finished with status 'done'\n",
      "  Created wheel for ffmpeg: filename=ffmpeg-1.4-py3-none-any.whl size=6084 sha256=391d274337868e2177b7ec1eeef8a3cdf4937a2ec8872d8767af5dfc76dcd761\n",
      "  Stored in directory: c:\\users\\dj mini pc new\\appdata\\local\\pip\\cache\\wheels\\1d\\57\\24\\4eff6a03a9ea0e647568e8a5a0546cdf957e3cf005372c0245\n",
      "Successfully built ffmpeg\n",
      "Installing collected packages: ffmpeg\n",
      "Successfully installed ffmpeg-1.4\n",
      "Note: you may need to restart the kernel to use updated packages.\n"
     ]
    }
   ],
   "source": [
    "pip install ffmpeg --upgrade"
   ]
  },
  {
   "cell_type": "code",
   "execution_count": 1,
   "id": "ef7743ba",
   "metadata": {},
   "outputs": [],
   "source": [
    "import cv2\n",
    "import pytesseract\n",
    "import os\n",
    "import numpy as np\n",
    "import re\n",
    "from moviepy.editor import *"
   ]
  },
  {
   "cell_type": "code",
   "execution_count": 2,
   "id": "aaf39fab",
   "metadata": {},
   "outputs": [],
   "source": [
    "pytesseract.pytesseract.tesseract_cmd = r'C:\\Program Files\\Tesseract-OCR\\tesseract.exe'"
   ]
  },
  {
   "cell_type": "code",
   "execution_count": 3,
   "id": "62802b8f",
   "metadata": {},
   "outputs": [],
   "source": [
    "def Ocr(image):\n",
    "    \n",
    "    rgb = cv2.cvtColor(image, cv2.COLOR_BGR2RGB)\n",
    "    img = cv2.resize(image, None, fx=1.2, fy=1.2, interpolation=cv2.INTER_CUBIC)\n",
    "    img = cv2.cvtColor(img, cv2.COLOR_BGR2GRAY)\n",
    "\n",
    "    kernel = np.ones((1, 1), np.uint8)\n",
    "    img = cv2.dilate(img, kernel, iterations=1)\n",
    "    img = cv2.erode(img, kernel, iterations=1)\n",
    "\n",
    "    img_blur = cv2.GaussianBlur(img, (3,3), 0)\n",
    "    options = \"\"\n",
    "\n",
    "    text = pytesseract.image_to_string(img_blur, config=options)\n",
    "    result = re.sub('[^0-9]','', text)\n",
    "    print(result)\n",
    "    return result"
   ]
  },
  {
   "cell_type": "code",
   "execution_count": 6,
   "id": "9cfc5f63",
   "metadata": {
    "scrolled": false
   },
   "outputs": [
    {
     "name": "stdout",
     "output_type": "stream",
     "text": [
      "\n",
      "Frame 1500\n",
      "\n",
      "Frame 1800\n",
      "1\n",
      "Time stamp = 35 sec\n",
      "Moviepy - Building video vid1_edited.mp4.\n",
      "MoviePy - Writing audio in vid1_editedTEMP_MPY_wvf_snd.mp3\n"
     ]
    },
    {
     "name": "stderr",
     "output_type": "stream",
     "text": [
      "                                                                                                                                                                                                                                                                                         \r"
     ]
    },
    {
     "name": "stdout",
     "output_type": "stream",
     "text": [
      "MoviePy - Done.\n",
      "Moviepy - Writing video vid1_edited.mp4\n",
      "\n"
     ]
    },
    {
     "name": "stderr",
     "output_type": "stream",
     "text": [
      "                                                                                                                                                                                                                                                                                         \r"
     ]
    },
    {
     "name": "stdout",
     "output_type": "stream",
     "text": [
      "Moviepy - Done !\n",
      "Moviepy - video ready vid1_edited.mp4\n",
      "Frame 2100\n",
      "12\n",
      "Time stamp = 40 sec\n",
      "Moviepy - Building video vid12_edited.mp4.\n",
      "MoviePy - Writing audio in vid12_editedTEMP_MPY_wvf_snd.mp3\n"
     ]
    },
    {
     "name": "stderr",
     "output_type": "stream",
     "text": [
      "                                                                                                                                                                                                                                                                                         \r"
     ]
    },
    {
     "name": "stdout",
     "output_type": "stream",
     "text": [
      "MoviePy - Done.\n",
      "Moviepy - Writing video vid12_edited.mp4\n",
      "\n"
     ]
    },
    {
     "name": "stderr",
     "output_type": "stream",
     "text": [
      "                                                                                                                                                                                                                                                                                         \r"
     ]
    },
    {
     "name": "stdout",
     "output_type": "stream",
     "text": [
      "Moviepy - Done !\n",
      "Moviepy - video ready vid12_edited.mp4\n",
      "Frame 2400\n",
      "\n",
      "Frame 2700\n",
      "12\n",
      "Frame 3000\n",
      "\n",
      "Frame 3300\n",
      "1\n",
      "Frame 3600\n",
      "2\n",
      "Time stamp = 65 sec\n",
      "Moviepy - Building video vid2_edited.mp4.\n",
      "MoviePy - Writing audio in vid2_editedTEMP_MPY_wvf_snd.mp3\n"
     ]
    },
    {
     "name": "stderr",
     "output_type": "stream",
     "text": [
      "                                                                                                                                                                                                                                                                                         \r"
     ]
    },
    {
     "name": "stdout",
     "output_type": "stream",
     "text": [
      "MoviePy - Done.\n",
      "Moviepy - Writing video vid2_edited.mp4\n",
      "\n"
     ]
    },
    {
     "name": "stderr",
     "output_type": "stream",
     "text": [
      "                                                                                                                                                                                                                                                                                         \r"
     ]
    },
    {
     "name": "stdout",
     "output_type": "stream",
     "text": [
      "Moviepy - Done !\n",
      "Moviepy - video ready vid2_edited.mp4\n",
      "Frame 3900\n",
      "\n",
      "Frame 4200\n",
      "2\n",
      "Frame 4500\n",
      "2\n",
      "Frame 4800\n",
      "\n",
      "Frame 5100\n",
      "12\n",
      "Frame 5400\n",
      "12\n",
      "Frame 5700\n",
      "1\n",
      "Frame 6000\n",
      "\n",
      "Frame 6300\n",
      "\n",
      "Frame 6600\n",
      "1\n",
      "Frame 6900\n",
      "2\n",
      "Frame 7200\n",
      "\n",
      "Frame 7500\n",
      "1\n",
      "Frame 7800\n",
      "12\n",
      "Frame 8100\n",
      "\n",
      "Frame 8400\n",
      "\n",
      "Frame 8700\n",
      "\n",
      "Frame 9000\n",
      "2\n",
      "Frame 9300\n",
      "\n",
      "Frame 9600\n",
      "\n",
      "Frame 9900\n",
      "2\n",
      "Frame 10200\n",
      "1\n",
      "Frame 10500\n",
      "1\n",
      "Frame 10800\n",
      "1\n",
      "Frame 11100\n",
      "1\n",
      "Frame 11400\n",
      "\n",
      "Frame 11700\n",
      "12\n",
      "Frame 12000\n",
      "\n",
      "Frame 12300\n",
      "112\n",
      "Time stamp = 210 sec\n",
      "Moviepy - Building video vid112_edited.mp4.\n",
      "MoviePy - Writing audio in vid112_editedTEMP_MPY_wvf_snd.mp3\n"
     ]
    },
    {
     "name": "stderr",
     "output_type": "stream",
     "text": [
      "                                                                                                                                                                                                                                                                                         \r"
     ]
    },
    {
     "name": "stdout",
     "output_type": "stream",
     "text": [
      "MoviePy - Done.\n",
      "Moviepy - Writing video vid112_edited.mp4\n",
      "\n"
     ]
    },
    {
     "name": "stderr",
     "output_type": "stream",
     "text": [
      "                                                                                                                                                                                                                                                                                         \r"
     ]
    },
    {
     "name": "stdout",
     "output_type": "stream",
     "text": [
      "Moviepy - Done !\n",
      "Moviepy - video ready vid112_edited.mp4\n",
      "Frame 12600\n",
      "22\n",
      "Time stamp = 215 sec\n",
      "Moviepy - Building video vid22_edited.mp4.\n",
      "MoviePy - Writing audio in vid22_editedTEMP_MPY_wvf_snd.mp3\n"
     ]
    },
    {
     "name": "stderr",
     "output_type": "stream",
     "text": [
      "                                                                                                                                                                                                                                                                                         \r"
     ]
    },
    {
     "name": "stdout",
     "output_type": "stream",
     "text": [
      "MoviePy - Done.\n",
      "Moviepy - Writing video vid22_edited.mp4\n",
      "\n"
     ]
    },
    {
     "name": "stderr",
     "output_type": "stream",
     "text": [
      "                                                                                                                                                                                                                                                                                         \r"
     ]
    },
    {
     "name": "stdout",
     "output_type": "stream",
     "text": [
      "Moviepy - Done !\n",
      "Moviepy - video ready vid22_edited.mp4\n",
      "Frame 12900\n",
      "22\n",
      "Frame 13200\n",
      "22\n",
      "Frame 13500\n",
      "\n",
      "Frame 13800\n",
      "\n",
      "Frame 14100\n",
      "\n",
      "Frame 14400\n",
      "\n",
      "Frame 14700\n",
      "\n",
      "Frame 15000\n",
      "\n",
      "Frame 15300\n",
      "2\n",
      "Frame 15600\n",
      "22\n",
      "Frame 15900\n",
      "22\n",
      "Frame 16200\n",
      "22\n",
      "Frame 16500\n",
      "2\n",
      "Frame 16800\n",
      "\n",
      "Frame 17100\n",
      "\n",
      "Frame 17400\n",
      "22\n",
      "Frame 17700\n",
      "Frame Capture Done\n"
     ]
    }
   ],
   "source": [
    "\n",
    "lst = []\n",
    "video = 'vid2.mp4'#input(\"Enter path to the video: \")\n",
    "dump_path = \"Dump\" \n",
    "#input(\"Enter path to Dump Frame: \")\n",
    "\n",
    "if ((os.path.isdir(video)) or (os.path.isdir(dump_path))) == False:\n",
    "    print(\"Invalid Path(s)\")\n",
    "    exit()\n",
    "count = 0\n",
    "capture = cv2.VideoCapture(video)\n",
    "while True:\n",
    "    isTrue, frame = capture.read()\n",
    "\n",
    "    if isTrue == False:\n",
    "        print(\"Frame Capture Done\")\n",
    "        break\n",
    "    else:\n",
    "        count += 1\n",
    "        if count%300 == 0 and count > 1200:\n",
    "            cv2.imwrite(dump_path+'/frame_'+str(count)+'.jpg', frame)\n",
    "            cropped_image = frame[45:75, 190:350]\n",
    "            Score = Ocr(cropped_image)\n",
    "            if Score not in lst and Score !=\"\" : \n",
    "                lst.append(Score)\n",
    "                Timestamp = int(float(str(capture.get(cv2.CAP_PROP_POS_MSEC))) / 1000)\n",
    "                print(f\"Time stamp = {Timestamp} sec\")\n",
    "                clip = VideoFileClip(video).subclip(Timestamp-20, Timestamp+10)\n",
    "                clip.write_videofile(f\"vid{Score}_edited.mp4\", fps = 30)\n",
    "            print(f\"Frame {count}\")    \n",
    "    \n",
    "capture.release()"
   ]
  },
  {
   "cell_type": "code",
   "execution_count": 128,
   "id": "9830ce8a",
   "metadata": {},
   "outputs": [
    {
     "name": "stdout",
     "output_type": "stream",
     "text": [
      "(768, 1366, 3)\n"
     ]
    },
    {
     "data": {
      "text/plain": [
       "-1"
      ]
     },
     "execution_count": 128,
     "metadata": {},
     "output_type": "execute_result"
    }
   ],
   "source": [
    "img = cv2.imread('frame_300.jpg')\n",
    "print(img.shape) # Print image shape\n",
    "#cv2.imshow(\"original\", img)\n",
    "#cv2.waitKey(0)\n",
    " \n",
    "# Cropping an image\n",
    "cropped_image = img[45:75, 190:350]\n",
    " \n",
    "# Display cropped image\n",
    "cv2.imshow(\"cropped\", cropped_image)\n",
    "cv2.waitKey(0)\n"
   ]
  }
 ],
 "metadata": {
  "kernelspec": {
   "display_name": "Python 3 (ipykernel)",
   "language": "python",
   "name": "python3"
  },
  "language_info": {
   "codemirror_mode": {
    "name": "ipython",
    "version": 3
   },
   "file_extension": ".py",
   "mimetype": "text/x-python",
   "name": "python",
   "nbconvert_exporter": "python",
   "pygments_lexer": "ipython3",
   "version": "3.9.12"
  }
 },
 "nbformat": 4,
 "nbformat_minor": 5
}
